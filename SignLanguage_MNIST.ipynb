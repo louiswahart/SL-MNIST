{
  "nbformat": 4,
  "nbformat_minor": 0,
  "metadata": {
    "colab": {
      "provenance": [],
      "gpuType": "T4"
    },
    "kernelspec": {
      "name": "python3",
      "display_name": "Python 3"
    },
    "language_info": {
      "name": "python"
    },
    "accelerator": "GPU"
  },
  "cells": [
    {
      "cell_type": "code",
      "execution_count": 1,
      "metadata": {
        "id": "7w0hVeOljnvl"
      },
      "outputs": [],
      "source": [
        "import tensorflow as tf\n",
        "from tensorflow.keras.preprocessing.image import ImageDataGenerator\n",
        "import pandas as pd\n",
        "import numpy as np\n",
        "import csv"
      ]
    },
    {
      "cell_type": "code",
      "source": [
        "# sign_mnist_train.csv\n",
        "!gdown 1z0DkA9BytlLxO1C0BAWzknLyQmZAp0HR\n",
        "# sign_mnist_test.csv\n",
        "!gdown 1z1BIj4qmri59GWBG4ivMNFtpZ4AXIbzg"
      ],
      "metadata": {
        "colab": {
          "base_uri": "https://localhost:8080/"
        },
        "id": "5yoMVgev3bbQ",
        "outputId": "79d95865-a487-42ba-eb31-9ad3e769abe9"
      },
      "execution_count": 2,
      "outputs": [
        {
          "output_type": "stream",
          "name": "stdout",
          "text": [
            "Downloading...\n",
            "From: https://drive.google.com/uc?id=1z0DkA9BytlLxO1C0BAWzknLyQmZAp0HR\n",
            "To: /content/sign_mnist_train.csv\n",
            "100% 83.3M/83.3M [00:00<00:00, 209MB/s]\n",
            "Downloading...\n",
            "From: https://drive.google.com/uc?id=1z1BIj4qmri59GWBG4ivMNFtpZ4AXIbzg\n",
            "To: /content/sign_mnist_test.csv\n",
            "100% 21.8M/21.8M [00:00<00:00, 188MB/s]\n"
          ]
        }
      ]
    },
    {
      "cell_type": "code",
      "source": [
        "def parse_data_from_input(filename):\n",
        "  with open(filename) as file:\n",
        "    csv_reader = csv.reader(file, delimiter=',')\n",
        "\n",
        "    labels = []\n",
        "    images = []\n",
        "\n",
        "    for i, row in enumerate(csv_reader):\n",
        "       if i > 0:\n",
        "        labels.append(row[0])\n",
        "        images.append(row[1:])\n",
        "\n",
        "    images = np.array(images, dtype=np.float64)\n",
        "    labels = np.array(labels, dtype=np.float64)\n",
        "\n",
        "    images = images.reshape(images.shape[0], 28, 28 )\n",
        "\n",
        "    ### END CODE HERE\n",
        "\n",
        "    return images, labels"
      ],
      "metadata": {
        "id": "pce8CBXmrGjz"
      },
      "execution_count": 3,
      "outputs": []
    },
    {
      "cell_type": "code",
      "source": [
        "training_images, training_labels = parse_data_from_input(\"./sign_mnist_train.csv\")\n",
        "validation_images, validation_labels = parse_data_from_input(\"./sign_mnist_test.csv\")\n",
        "\n",
        "print(f\"Training images has shape: {training_images.shape}\")\n",
        "print(f\"Training labels has shape: {training_labels.shape}\")\n",
        "print(f\"Validation images has shape: {validation_images.shape}\")\n",
        "print(f\"Validation labels has shape: {validation_labels.shape}\")"
      ],
      "metadata": {
        "colab": {
          "base_uri": "https://localhost:8080/"
        },
        "id": "uKInsmH-ycUU",
        "outputId": "91031a2d-3f92-4938-fc39-5bb4eb4e1e32"
      },
      "execution_count": 4,
      "outputs": [
        {
          "output_type": "stream",
          "name": "stdout",
          "text": [
            "Training images has shape: (27455, 28, 28)\n",
            "Training labels has shape: (27455,)\n",
            "Validation images has shape: (7172, 28, 28)\n",
            "Validation labels has shape: (7172,)\n"
          ]
        }
      ]
    },
    {
      "cell_type": "code",
      "source": [
        "def train_val_generators(training_images, training_labels, validation_images, validation_labels):\n",
        "    training_images = training_images.reshape(training_images.shape[0], training_images.shape[1], training_images.shape[2], 1)\n",
        "    validation_images = validation_images.reshape(validation_images.shape[0], validation_images.shape[1], validation_images.shape[2], 1)\n",
        "\n",
        "    train_datagen = ImageDataGenerator(\n",
        "        rescale=1.0 / 255,\n",
        "        rotation_range=10,\n",
        "        width_shift_range=0.1,\n",
        "        height_shift_range=0.1,\n",
        "        shear_range=0,\n",
        "        zoom_range=0.1,\n",
        "        horizontal_flip=False,\n",
        "        fill_mode='nearest'\n",
        "    )\n",
        "\n",
        "\n",
        "    train_generator = train_datagen.flow(x=training_images,\n",
        "                                        y=training_labels,\n",
        "                                        batch_size=128)\n",
        "\n",
        "\n",
        "    validation_datagen = ImageDataGenerator(rescale=1.0 / 255)\n",
        "\n",
        "    validation_generator = validation_datagen.flow(x=validation_images,\n",
        "                                                    y=validation_labels,\n",
        "                                                    batch_size=128)\n",
        "    return train_generator, validation_generator"
      ],
      "metadata": {
        "id": "nVfE_sCFyTYU"
      },
      "execution_count": 18,
      "outputs": []
    },
    {
      "cell_type": "code",
      "source": [
        "train_generator, validation_generator = train_val_generators(training_images, training_labels, validation_images, validation_labels)"
      ],
      "metadata": {
        "id": "hLoPh2QKy-KZ"
      },
      "execution_count": 19,
      "outputs": []
    },
    {
      "cell_type": "code",
      "source": [
        "def create_model():\n",
        "  model = tf.keras.Sequential([\n",
        "      tf.keras.layers.Conv2D(32, (3, 3), activation=\"relu\", input_shape=(28, 28, 1)),\n",
        "      tf.keras.layers.BatchNormalization(),\n",
        "      tf.keras.layers.MaxPool2D(2,2),\n",
        "      tf.keras.layers.Conv2D(64, (3, 3), activation=\"relu\"),\n",
        "      tf.keras.layers.Dropout(0.2),\n",
        "      tf.keras.layers.BatchNormalization(),\n",
        "      tf.keras.layers.MaxPool2D(2,2),\n",
        "      tf.keras.layers.Conv2D(128, (3, 3), activation=\"relu\"),\n",
        "      tf.keras.layers.BatchNormalization(),\n",
        "      tf.keras.layers.MaxPool2D(2,2),\n",
        "\n",
        "\n",
        "      tf.keras.layers.Flatten(),\n",
        "      tf.keras.layers.Dense(512, activation='relu'),\n",
        "      tf.keras.layers.Dropout(0.2),\n",
        "      tf.keras.layers.Dense(256, activation='relu'),\n",
        "      tf.keras.layers.Dense(128, activation='relu'),\n",
        "      tf.keras.layers.Dropout(0.3),\n",
        "      tf.keras.layers.Dense(25, activation='softmax')\n",
        "    ]\n",
        "  )\n",
        "\n",
        "  model.compile(optimizer='adam', loss='sparse_categorical_crossentropy', metrics=['acc'])\n",
        "\n",
        "  return model"
      ],
      "metadata": {
        "id": "uAICHO72s5sO"
      },
      "execution_count": 23,
      "outputs": []
    },
    {
      "cell_type": "code",
      "source": [
        "model = create_model()"
      ],
      "metadata": {
        "id": "f3ML2wHBv7jz"
      },
      "execution_count": 24,
      "outputs": []
    },
    {
      "cell_type": "code",
      "source": [
        "from keras.callbacks import ReduceLROnPlateau\n",
        "\n",
        "learning_rate_reduction = ReduceLROnPlateau(monitor='val_acc', patience = 2, verbose=1,factor=0.5, min_lr=0.00001)\n",
        "\n",
        "history = model.fit(train_generator,\n",
        "                    epochs=25,\n",
        "                    validation_data=validation_generator, callbacks = [learning_rate_reduction])"
      ],
      "metadata": {
        "colab": {
          "base_uri": "https://localhost:8080/"
        },
        "id": "zi8nBc-Y1KlN",
        "outputId": "419f1ac0-2509-4267-a31f-ad1e4080c714"
      },
      "execution_count": 25,
      "outputs": [
        {
          "output_type": "stream",
          "name": "stdout",
          "text": [
            "Epoch 1/25\n",
            "215/215 [==============================] - 14s 50ms/step - loss: 1.2320 - acc: 0.6074 - val_loss: 4.1851 - val_acc: 0.0694 - lr: 0.0010\n",
            "Epoch 2/25\n",
            "215/215 [==============================] - 10s 47ms/step - loss: 0.3100 - acc: 0.8958 - val_loss: 1.9408 - val_acc: 0.4509 - lr: 0.0010\n",
            "Epoch 3/25\n",
            "215/215 [==============================] - 11s 51ms/step - loss: 0.1718 - acc: 0.9446 - val_loss: 0.1588 - val_acc: 0.9522 - lr: 0.0010\n",
            "Epoch 4/25\n",
            "215/215 [==============================] - 10s 49ms/step - loss: 0.1136 - acc: 0.9631 - val_loss: 0.1696 - val_acc: 0.9469 - lr: 0.0010\n",
            "Epoch 5/25\n",
            "215/215 [==============================] - ETA: 0s - loss: 0.0900 - acc: 0.9707\n",
            "Epoch 5: ReduceLROnPlateau reducing learning rate to 0.0005000000237487257.\n",
            "215/215 [==============================] - 10s 48ms/step - loss: 0.0900 - acc: 0.9707 - val_loss: 0.2475 - val_acc: 0.9264 - lr: 0.0010\n",
            "Epoch 6/25\n",
            "215/215 [==============================] - 10s 47ms/step - loss: 0.0513 - acc: 0.9835 - val_loss: 0.0381 - val_acc: 0.9891 - lr: 5.0000e-04\n",
            "Epoch 7/25\n",
            "215/215 [==============================] - 9s 44ms/step - loss: 0.0417 - acc: 0.9873 - val_loss: 0.0246 - val_acc: 0.9883 - lr: 5.0000e-04\n",
            "Epoch 8/25\n",
            "215/215 [==============================] - ETA: 0s - loss: 0.0370 - acc: 0.9886\n",
            "Epoch 8: ReduceLROnPlateau reducing learning rate to 0.0002500000118743628.\n",
            "215/215 [==============================] - 10s 47ms/step - loss: 0.0370 - acc: 0.9886 - val_loss: 0.0479 - val_acc: 0.9848 - lr: 5.0000e-04\n",
            "Epoch 9/25\n",
            "215/215 [==============================] - 10s 48ms/step - loss: 0.0212 - acc: 0.9934 - val_loss: 0.0136 - val_acc: 0.9960 - lr: 2.5000e-04\n",
            "Epoch 10/25\n",
            "215/215 [==============================] - 10s 47ms/step - loss: 0.0192 - acc: 0.9948 - val_loss: 0.0138 - val_acc: 0.9958 - lr: 2.5000e-04\n",
            "Epoch 11/25\n",
            "215/215 [==============================] - ETA: 0s - loss: 0.0202 - acc: 0.9936\n",
            "Epoch 11: ReduceLROnPlateau reducing learning rate to 0.0001250000059371814.\n",
            "215/215 [==============================] - 10s 47ms/step - loss: 0.0202 - acc: 0.9936 - val_loss: 0.0315 - val_acc: 0.9877 - lr: 2.5000e-04\n",
            "Epoch 12/25\n",
            "215/215 [==============================] - 10s 45ms/step - loss: 0.0155 - acc: 0.9954 - val_loss: 0.0176 - val_acc: 0.9932 - lr: 1.2500e-04\n",
            "Epoch 13/25\n",
            "215/215 [==============================] - ETA: 0s - loss: 0.0160 - acc: 0.9950\n",
            "Epoch 13: ReduceLROnPlateau reducing learning rate to 6.25000029685907e-05.\n",
            "215/215 [==============================] - 10s 46ms/step - loss: 0.0160 - acc: 0.9950 - val_loss: 0.0197 - val_acc: 0.9943 - lr: 1.2500e-04\n",
            "Epoch 14/25\n",
            "215/215 [==============================] - 11s 50ms/step - loss: 0.0122 - acc: 0.9960 - val_loss: 0.0165 - val_acc: 0.9943 - lr: 6.2500e-05\n",
            "Epoch 15/25\n",
            "215/215 [==============================] - ETA: 0s - loss: 0.0117 - acc: 0.9963\n",
            "Epoch 15: ReduceLROnPlateau reducing learning rate to 3.125000148429535e-05.\n",
            "215/215 [==============================] - 10s 47ms/step - loss: 0.0117 - acc: 0.9963 - val_loss: 0.0142 - val_acc: 0.9940 - lr: 6.2500e-05\n",
            "Epoch 16/25\n",
            "215/215 [==============================] - 10s 47ms/step - loss: 0.0117 - acc: 0.9961 - val_loss: 0.0138 - val_acc: 0.9929 - lr: 3.1250e-05\n",
            "Epoch 17/25\n",
            "215/215 [==============================] - ETA: 0s - loss: 0.0104 - acc: 0.9968\n",
            "Epoch 17: ReduceLROnPlateau reducing learning rate to 1.5625000742147677e-05.\n",
            "215/215 [==============================] - 9s 43ms/step - loss: 0.0104 - acc: 0.9968 - val_loss: 0.0113 - val_acc: 0.9957 - lr: 3.1250e-05\n",
            "Epoch 18/25\n",
            "215/215 [==============================] - 10s 47ms/step - loss: 0.0122 - acc: 0.9964 - val_loss: 0.0101 - val_acc: 0.9957 - lr: 1.5625e-05\n",
            "Epoch 19/25\n",
            "215/215 [==============================] - ETA: 0s - loss: 0.0106 - acc: 0.9966\n",
            "Epoch 19: ReduceLROnPlateau reducing learning rate to 1e-05.\n",
            "215/215 [==============================] - 11s 50ms/step - loss: 0.0106 - acc: 0.9966 - val_loss: 0.0102 - val_acc: 0.9954 - lr: 1.5625e-05\n",
            "Epoch 20/25\n",
            "215/215 [==============================] - 10s 46ms/step - loss: 0.0098 - acc: 0.9969 - val_loss: 0.0090 - val_acc: 0.9961 - lr: 1.0000e-05\n",
            "Epoch 21/25\n",
            "215/215 [==============================] - 10s 48ms/step - loss: 0.0099 - acc: 0.9970 - val_loss: 0.0088 - val_acc: 0.9965 - lr: 1.0000e-05\n",
            "Epoch 22/25\n",
            "215/215 [==============================] - 10s 45ms/step - loss: 0.0093 - acc: 0.9970 - val_loss: 0.0113 - val_acc: 0.9953 - lr: 1.0000e-05\n",
            "Epoch 23/25\n",
            "215/215 [==============================] - 10s 47ms/step - loss: 0.0114 - acc: 0.9967 - val_loss: 0.0102 - val_acc: 0.9957 - lr: 1.0000e-05\n",
            "Epoch 24/25\n",
            "215/215 [==============================] - 10s 48ms/step - loss: 0.0095 - acc: 0.9968 - val_loss: 0.0102 - val_acc: 0.9957 - lr: 1.0000e-05\n",
            "Epoch 25/25\n",
            "215/215 [==============================] - 11s 49ms/step - loss: 0.0109 - acc: 0.9968 - val_loss: 0.0117 - val_acc: 0.9951 - lr: 1.0000e-05\n"
          ]
        }
      ]
    },
    {
      "cell_type": "code",
      "source": [
        "print(history.history)"
      ],
      "metadata": {
        "colab": {
          "base_uri": "https://localhost:8080/"
        },
        "id": "fEuIe9uh1zsp",
        "outputId": "5ba42ac4-696e-4e69-da9b-ca3d53884f27"
      },
      "execution_count": 26,
      "outputs": [
        {
          "output_type": "stream",
          "name": "stdout",
          "text": [
            "{'loss': [1.2319525480270386, 0.3099857568740845, 0.1717970371246338, 0.11359187960624695, 0.09002232551574707, 0.051284123212099075, 0.04166768118739128, 0.03699137642979622, 0.021223189309239388, 0.019229616969823837, 0.020246336236596107, 0.01550277043133974, 0.015985656529664993, 0.012186736799776554, 0.01172664761543274, 0.011694090440869331, 0.010371951386332512, 0.012235024943947792, 0.01061808317899704, 0.009814354591071606, 0.00992689747363329, 0.009305575862526894, 0.011449204757809639, 0.009513105265796185, 0.010901650413870811], 'acc': [0.6074303388595581, 0.895756721496582, 0.9446367025375366, 0.9631397128105164, 0.9706792831420898, 0.9835367202758789, 0.9872882962226868, 0.9885631203651428, 0.9934073686599731, 0.9947914481163025, 0.9935895204544067, 0.995410680770874, 0.9949735999107361, 0.9960298538208008, 0.9963212609291077, 0.9961391091346741, 0.9967583417892456, 0.9963940978050232, 0.996576189994812, 0.9968675971031189, 0.9969768524169922, 0.9970496892929077, 0.9966855049133301, 0.9968311786651611, 0.9967947602272034], 'val_loss': [4.18513298034668, 1.9408252239227295, 0.15879885852336884, 0.16957946121692657, 0.24754372239112854, 0.03808611258864403, 0.02460325136780739, 0.04792137071490288, 0.013640173710882664, 0.013778461143374443, 0.03145581856369972, 0.017643269151449203, 0.01973804086446762, 0.01654934510588646, 0.014152532443404198, 0.013818665407598019, 0.011268001049757004, 0.010061264038085938, 0.01020457036793232, 0.009023750200867653, 0.008823352865874767, 0.011293080635368824, 0.010201448574662209, 0.010166115127503872, 0.01170800905674696], 'val_acc': [0.0694366991519928, 0.4509202539920807, 0.9521751403808594, 0.9468767642974854, 0.9263803958892822, 0.9891243577003479, 0.9882878065109253, 0.9848020076751709, 0.9959564805030823, 0.9958170652389526, 0.987730085849762, 0.9931678771972656, 0.9942833185195923, 0.9942833185195923, 0.994004487991333, 0.9928889870643616, 0.995677649974823, 0.995677649974823, 0.995398759841919, 0.9960959553718567, 0.9965142011642456, 0.9952593445777893, 0.995677649974823, 0.995677649974823, 0.9951199293136597], 'lr': [0.001, 0.001, 0.001, 0.001, 0.001, 0.0005, 0.0005, 0.0005, 0.00025, 0.00025, 0.00025, 0.000125, 0.000125, 6.25e-05, 6.25e-05, 3.125e-05, 3.125e-05, 1.5625e-05, 1.5625e-05, 1e-05, 1e-05, 1e-05, 1e-05, 1e-05, 1e-05]}\n"
          ]
        }
      ]
    },
    {
      "cell_type": "code",
      "source": [
        "import matplotlib.pyplot as plt"
      ],
      "metadata": {
        "id": "K0c17AdCaIVx"
      },
      "execution_count": 27,
      "outputs": []
    },
    {
      "cell_type": "code",
      "source": [
        "train_loss = history.history['loss']\n",
        "train_acc = history.history['acc']\n",
        "val_loss = history.history['val_loss']\n",
        "val_acc = history.history['val_acc']"
      ],
      "metadata": {
        "id": "Z9JeVb05aaWA"
      },
      "execution_count": 28,
      "outputs": []
    },
    {
      "cell_type": "code",
      "source": [
        "acc = history.history['acc']\n",
        "val_acc = history.history['val_acc']\n",
        "loss = history.history['loss']\n",
        "val_loss = history.history['val_loss']\n",
        "\n",
        "epochs = range(len(acc))\n",
        "\n",
        "plt.plot(epochs, acc, 'r', label='Training accuracy')\n",
        "plt.plot(epochs, val_acc, 'b', label='Validation accuracy')\n",
        "plt.title('Training and validation accuracy')\n",
        "plt.legend()\n",
        "plt.figure()\n",
        "\n",
        "plt.plot(epochs, loss, 'r', label='Training Loss')\n",
        "plt.plot(epochs, val_loss, 'b', label='Validation Loss')\n",
        "plt.title('Training and validation loss')\n",
        "plt.legend()\n",
        "\n",
        "plt.show()"
      ],
      "metadata": {
        "colab": {
          "base_uri": "https://localhost:8080/",
          "height": 887
        },
        "id": "tq-K5C_4ar-S",
        "outputId": "03f4e10c-19a7-4c05-cc85-ff2cf159b465"
      },
      "execution_count": 29,
      "outputs": [
        {
          "output_type": "display_data",
          "data": {
            "text/plain": [
              "<Figure size 640x480 with 1 Axes>"
            ],
            "image/png": "[encoded data removed]"
          },
          "metadata": {}
        },
        {
          "output_type": "display_data",
          "data": {
            "text/plain": [
              "<Figure size 640x480 with 1 Axes>"
            ],
            "image/png": "[encoded data removed]"
          },
          "metadata": {}
        }
      ]
    },
    {
      "cell_type": "code",
      "source": [],
      "metadata": {
        "id": "18S6NLjjayyk"
      },
      "execution_count": 29,
      "outputs": []
    }
  ]
}